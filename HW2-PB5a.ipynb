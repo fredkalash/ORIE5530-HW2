{
 "cells": [
  {
   "cell_type": "code",
   "execution_count": 1,
   "metadata": {},
   "outputs": [],
   "source": [
    "#HW2-PB5a"
   ]
  },
  {
   "cell_type": "code",
   "execution_count": 2,
   "metadata": {},
   "outputs": [],
   "source": [
    "import pandas as pd\n",
    "import numpy as np\n",
    "\n",
    "np.random.seed(0)"
   ]
  },
  {
   "cell_type": "code",
   "execution_count": 3,
   "metadata": {},
   "outputs": [
    {
     "data": {
      "text/plain": [
       "[(0, 0.0),\n",
       " (1, 5.36352),\n",
       " (2, 7.09992),\n",
       " (3, 7.67016),\n",
       " (4, 7.4244),\n",
       " (5, 6.5556),\n",
       " (6, 5.33196),\n",
       " (7, 3.89004),\n",
       " (8, 2.33496),\n",
       " (9, 0.5652),\n",
       " (10, -1.14132)]"
      ]
     },
     "execution_count": 3,
     "metadata": {},
     "output_type": "execute_result"
    }
   ],
   "source": [
    "P = 12\n",
    "C = 3\n",
    "HOURS_LIST = list(range(0,11))\n",
    "n_sims = 100000\n",
    "output_list = []\n",
    "for t in HOURS_LIST:\n",
    "    profit_list = []\n",
    "    for n in range(n_sims):\n",
    "        # Vectorize this later\n",
    "        mean_param = np.log(1+t)\n",
    "        D = np.random.poisson(lam=mean_param, size=None)\n",
    "        total_revenue = P*D\n",
    "        total_cost = C*t\n",
    "        profit = total_revenue-total_cost\n",
    "        profit_list.append(profit)\n",
    "    tup = (t, np.mean(profit_list))\n",
    "    output_list.append(tup)\n",
    "\n",
    "output_list"
   ]
  },
  {
   "cell_type": "code",
   "execution_count": 4,
   "metadata": {},
   "outputs": [],
   "source": [
    "#Optimal to work 3 hours per day to obtain average profit of about 7.67016"
   ]
  },
  {
   "cell_type": "code",
   "execution_count": null,
   "metadata": {},
   "outputs": [],
   "source": []
  }
 ],
 "metadata": {
  "kernelspec": {
   "display_name": "Python 3",
   "language": "python",
   "name": "python3"
  },
  "language_info": {
   "codemirror_mode": {
    "name": "ipython",
    "version": 3
   },
   "file_extension": ".py",
   "mimetype": "text/x-python",
   "name": "python",
   "nbconvert_exporter": "python",
   "pygments_lexer": "ipython3",
   "version": "3.8.3"
  }
 },
 "nbformat": 4,
 "nbformat_minor": 4
}
